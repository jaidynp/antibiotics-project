{
 "cells": [
  {
   "cell_type": "markdown",
   "metadata": {},
   "source": [
    "# Setup"
   ]
  },
  {
   "cell_type": "code",
   "execution_count": 1,
   "metadata": {},
   "outputs": [],
   "source": [
    "# Import libraries\n",
    "import pandas as pd\n",
    "import numpy as np\n",
    "\n",
    "# Agglomerative clustering library\n",
    "from sklearn.cluster import AgglomerativeClustering"
   ]
  },
  {
   "cell_type": "code",
   "execution_count": 2,
   "metadata": {},
   "outputs": [
    {
     "data": {
      "text/html": [
       "<div>\n",
       "<style scoped>\n",
       "    .dataframe tbody tr th:only-of-type {\n",
       "        vertical-align: middle;\n",
       "    }\n",
       "\n",
       "    .dataframe tbody tr th {\n",
       "        vertical-align: top;\n",
       "    }\n",
       "\n",
       "    .dataframe thead th {\n",
       "        text-align: right;\n",
       "    }\n",
       "</style>\n",
       "<table border=\"1\" class=\"dataframe\">\n",
       "  <thead>\n",
       "    <tr style=\"text-align: right;\">\n",
       "      <th></th>\n",
       "      <th>CLUSTERID1</th>\n",
       "      <th>CLUSTERID2</th>\n",
       "      <th>DeltaMZ</th>\n",
       "      <th>MEH</th>\n",
       "      <th>Cosine</th>\n",
       "      <th>OtherScore</th>\n",
       "      <th>ComponentIndex</th>\n",
       "    </tr>\n",
       "  </thead>\n",
       "  <tbody>\n",
       "    <tr>\n",
       "      <td>0</td>\n",
       "      <td>1</td>\n",
       "      <td>2</td>\n",
       "      <td>-3.030000</td>\n",
       "      <td>0</td>\n",
       "      <td>0.551420</td>\n",
       "      <td>0.480834</td>\n",
       "      <td>1</td>\n",
       "    </tr>\n",
       "    <tr>\n",
       "      <td>1</td>\n",
       "      <td>2</td>\n",
       "      <td>3</td>\n",
       "      <td>-0.018005</td>\n",
       "      <td>0</td>\n",
       "      <td>0.557460</td>\n",
       "      <td>0.555385</td>\n",
       "      <td>1</td>\n",
       "    </tr>\n",
       "    <tr>\n",
       "      <td>2</td>\n",
       "      <td>2</td>\n",
       "      <td>4</td>\n",
       "      <td>-0.065002</td>\n",
       "      <td>0</td>\n",
       "      <td>0.864792</td>\n",
       "      <td>0.515213</td>\n",
       "      <td>1</td>\n",
       "    </tr>\n",
       "    <tr>\n",
       "      <td>3</td>\n",
       "      <td>3</td>\n",
       "      <td>4</td>\n",
       "      <td>-57.061000</td>\n",
       "      <td>0</td>\n",
       "      <td>0.650067</td>\n",
       "      <td>0.538600</td>\n",
       "      <td>1</td>\n",
       "    </tr>\n",
       "    <tr>\n",
       "      <td>4</td>\n",
       "      <td>5</td>\n",
       "      <td>6</td>\n",
       "      <td>0.001007</td>\n",
       "      <td>0</td>\n",
       "      <td>0.837411</td>\n",
       "      <td>0.606836</td>\n",
       "      <td>2</td>\n",
       "    </tr>\n",
       "    <tr>\n",
       "      <td>5</td>\n",
       "      <td>5</td>\n",
       "      <td>7</td>\n",
       "      <td>-18.008000</td>\n",
       "      <td>0</td>\n",
       "      <td>0.583397</td>\n",
       "      <td>0.531694</td>\n",
       "      <td>2</td>\n",
       "    </tr>\n",
       "    <tr>\n",
       "      <td>6</td>\n",
       "      <td>6</td>\n",
       "      <td>7</td>\n",
       "      <td>-46.019000</td>\n",
       "      <td>0</td>\n",
       "      <td>0.613145</td>\n",
       "      <td>0.547435</td>\n",
       "      <td>2</td>\n",
       "    </tr>\n",
       "    <tr>\n",
       "      <td>7</td>\n",
       "      <td>7</td>\n",
       "      <td>9</td>\n",
       "      <td>0.007004</td>\n",
       "      <td>0</td>\n",
       "      <td>0.818767</td>\n",
       "      <td>0.455516</td>\n",
       "      <td>2</td>\n",
       "    </tr>\n",
       "    <tr>\n",
       "      <td>8</td>\n",
       "      <td>8</td>\n",
       "      <td>9</td>\n",
       "      <td>-2.018010</td>\n",
       "      <td>0</td>\n",
       "      <td>0.578485</td>\n",
       "      <td>0.441880</td>\n",
       "      <td>2</td>\n",
       "    </tr>\n",
       "    <tr>\n",
       "      <td>9</td>\n",
       "      <td>9</td>\n",
       "      <td>10</td>\n",
       "      <td>0.000000</td>\n",
       "      <td>0</td>\n",
       "      <td>0.855883</td>\n",
       "      <td>0.742791</td>\n",
       "      <td>2</td>\n",
       "    </tr>\n",
       "  </tbody>\n",
       "</table>\n",
       "</div>"
      ],
      "text/plain": [
       "   CLUSTERID1  CLUSTERID2    DeltaMZ  MEH    Cosine  OtherScore  \\\n",
       "0           1           2  -3.030000    0  0.551420    0.480834   \n",
       "1           2           3  -0.018005    0  0.557460    0.555385   \n",
       "2           2           4  -0.065002    0  0.864792    0.515213   \n",
       "3           3           4 -57.061000    0  0.650067    0.538600   \n",
       "4           5           6   0.001007    0  0.837411    0.606836   \n",
       "5           5           7 -18.008000    0  0.583397    0.531694   \n",
       "6           6           7 -46.019000    0  0.613145    0.547435   \n",
       "7           7           9   0.007004    0  0.818767    0.455516   \n",
       "8           8           9  -2.018010    0  0.578485    0.441880   \n",
       "9           9          10   0.000000    0  0.855883    0.742791   \n",
       "\n",
       "   ComponentIndex  \n",
       "0               1  \n",
       "1               1  \n",
       "2               1  \n",
       "3               1  \n",
       "4               2  \n",
       "5               2  \n",
       "6               2  \n",
       "7               2  \n",
       "8               2  \n",
       "9               2  "
      ]
     },
     "execution_count": 2,
     "metadata": {},
     "output_type": "execute_result"
    }
   ],
   "source": [
    "# Load dataset\n",
    "df = pd.read_csv('small_GNPS_edges.tsv', sep='\\t')\n",
    "\n",
    "# View dataset\n",
    "df"
   ]
  },
  {
   "cell_type": "markdown",
   "metadata": {},
   "source": [
    "# Agglomerative Clustering"
   ]
  },
  {
   "cell_type": "code",
   "execution_count": 3,
   "metadata": {},
   "outputs": [
    {
     "data": {
      "text/plain": [
       "array([[0.55142 ],\n",
       "       [0.55746 ],\n",
       "       [0.864792],\n",
       "       [0.650067],\n",
       "       [0.837411],\n",
       "       [0.583397],\n",
       "       [0.613145],\n",
       "       [0.818767],\n",
       "       [0.578485],\n",
       "       [0.855883]])"
      ]
     },
     "execution_count": 3,
     "metadata": {},
     "output_type": "execute_result"
    }
   ],
   "source": [
    "# Create precomputed matrix - this will be used as input for the 'fit' method.\n",
    "\n",
    "# 'distance' is an np.array of floats with values from the Cosine distance column.\n",
    "distance = df['Cosine'].to_numpy().astype(np.float64)\n",
    "\n",
    "# Reshape the data.\n",
    "distance = distance.reshape(-1, 1)\n",
    "distance"
   ]
  },
  {
   "cell_type": "code",
   "execution_count": 4,
   "metadata": {},
   "outputs": [
    {
     "data": {
      "text/html": [
       "<div>\n",
       "<style scoped>\n",
       "    .dataframe tbody tr th:only-of-type {\n",
       "        vertical-align: middle;\n",
       "    }\n",
       "\n",
       "    .dataframe tbody tr th {\n",
       "        vertical-align: top;\n",
       "    }\n",
       "\n",
       "    .dataframe thead th {\n",
       "        text-align: right;\n",
       "    }\n",
       "</style>\n",
       "<table border=\"1\" class=\"dataframe\">\n",
       "  <thead>\n",
       "    <tr style=\"text-align: right;\">\n",
       "      <th></th>\n",
       "      <th>0</th>\n",
       "      <th>1</th>\n",
       "      <th>2</th>\n",
       "      <th>3</th>\n",
       "      <th>4</th>\n",
       "      <th>5</th>\n",
       "      <th>6</th>\n",
       "      <th>7</th>\n",
       "      <th>8</th>\n",
       "      <th>9</th>\n",
       "    </tr>\n",
       "  </thead>\n",
       "  <tbody>\n",
       "    <tr>\n",
       "      <td>0</td>\n",
       "      <td>0.000000</td>\n",
       "      <td>0.006040</td>\n",
       "      <td>0.313372</td>\n",
       "      <td>0.098647</td>\n",
       "      <td>0.285991</td>\n",
       "      <td>0.031977</td>\n",
       "      <td>0.061725</td>\n",
       "      <td>0.267347</td>\n",
       "      <td>0.027065</td>\n",
       "      <td>0.304463</td>\n",
       "    </tr>\n",
       "    <tr>\n",
       "      <td>1</td>\n",
       "      <td>0.006040</td>\n",
       "      <td>0.000000</td>\n",
       "      <td>0.307332</td>\n",
       "      <td>0.092607</td>\n",
       "      <td>0.279951</td>\n",
       "      <td>0.025937</td>\n",
       "      <td>0.055685</td>\n",
       "      <td>0.261307</td>\n",
       "      <td>0.021025</td>\n",
       "      <td>0.298423</td>\n",
       "    </tr>\n",
       "    <tr>\n",
       "      <td>2</td>\n",
       "      <td>0.313372</td>\n",
       "      <td>0.307332</td>\n",
       "      <td>0.000000</td>\n",
       "      <td>0.214725</td>\n",
       "      <td>0.027381</td>\n",
       "      <td>0.281395</td>\n",
       "      <td>0.251647</td>\n",
       "      <td>0.046025</td>\n",
       "      <td>0.286307</td>\n",
       "      <td>0.008909</td>\n",
       "    </tr>\n",
       "    <tr>\n",
       "      <td>3</td>\n",
       "      <td>0.098647</td>\n",
       "      <td>0.092607</td>\n",
       "      <td>0.214725</td>\n",
       "      <td>0.000000</td>\n",
       "      <td>0.187344</td>\n",
       "      <td>0.066670</td>\n",
       "      <td>0.036922</td>\n",
       "      <td>0.168700</td>\n",
       "      <td>0.071582</td>\n",
       "      <td>0.205816</td>\n",
       "    </tr>\n",
       "    <tr>\n",
       "      <td>4</td>\n",
       "      <td>0.285991</td>\n",
       "      <td>0.279951</td>\n",
       "      <td>0.027381</td>\n",
       "      <td>0.187344</td>\n",
       "      <td>0.000000</td>\n",
       "      <td>0.254014</td>\n",
       "      <td>0.224266</td>\n",
       "      <td>0.018644</td>\n",
       "      <td>0.258926</td>\n",
       "      <td>0.018472</td>\n",
       "    </tr>\n",
       "    <tr>\n",
       "      <td>5</td>\n",
       "      <td>0.031977</td>\n",
       "      <td>0.025937</td>\n",
       "      <td>0.281395</td>\n",
       "      <td>0.066670</td>\n",
       "      <td>0.254014</td>\n",
       "      <td>0.000000</td>\n",
       "      <td>0.029748</td>\n",
       "      <td>0.235370</td>\n",
       "      <td>0.004912</td>\n",
       "      <td>0.272486</td>\n",
       "    </tr>\n",
       "    <tr>\n",
       "      <td>6</td>\n",
       "      <td>0.061725</td>\n",
       "      <td>0.055685</td>\n",
       "      <td>0.251647</td>\n",
       "      <td>0.036922</td>\n",
       "      <td>0.224266</td>\n",
       "      <td>0.029748</td>\n",
       "      <td>0.000000</td>\n",
       "      <td>0.205622</td>\n",
       "      <td>0.034660</td>\n",
       "      <td>0.242738</td>\n",
       "    </tr>\n",
       "    <tr>\n",
       "      <td>7</td>\n",
       "      <td>0.267347</td>\n",
       "      <td>0.261307</td>\n",
       "      <td>0.046025</td>\n",
       "      <td>0.168700</td>\n",
       "      <td>0.018644</td>\n",
       "      <td>0.235370</td>\n",
       "      <td>0.205622</td>\n",
       "      <td>0.000000</td>\n",
       "      <td>0.240282</td>\n",
       "      <td>0.037116</td>\n",
       "    </tr>\n",
       "    <tr>\n",
       "      <td>8</td>\n",
       "      <td>0.027065</td>\n",
       "      <td>0.021025</td>\n",
       "      <td>0.286307</td>\n",
       "      <td>0.071582</td>\n",
       "      <td>0.258926</td>\n",
       "      <td>0.004912</td>\n",
       "      <td>0.034660</td>\n",
       "      <td>0.240282</td>\n",
       "      <td>0.000000</td>\n",
       "      <td>0.277398</td>\n",
       "    </tr>\n",
       "    <tr>\n",
       "      <td>9</td>\n",
       "      <td>0.304463</td>\n",
       "      <td>0.298423</td>\n",
       "      <td>0.008909</td>\n",
       "      <td>0.205816</td>\n",
       "      <td>0.018472</td>\n",
       "      <td>0.272486</td>\n",
       "      <td>0.242738</td>\n",
       "      <td>0.037116</td>\n",
       "      <td>0.277398</td>\n",
       "      <td>0.000000</td>\n",
       "    </tr>\n",
       "  </tbody>\n",
       "</table>\n",
       "</div>"
      ],
      "text/plain": [
       "          0         1         2         3         4         5         6  \\\n",
       "0  0.000000  0.006040  0.313372  0.098647  0.285991  0.031977  0.061725   \n",
       "1  0.006040  0.000000  0.307332  0.092607  0.279951  0.025937  0.055685   \n",
       "2  0.313372  0.307332  0.000000  0.214725  0.027381  0.281395  0.251647   \n",
       "3  0.098647  0.092607  0.214725  0.000000  0.187344  0.066670  0.036922   \n",
       "4  0.285991  0.279951  0.027381  0.187344  0.000000  0.254014  0.224266   \n",
       "5  0.031977  0.025937  0.281395  0.066670  0.254014  0.000000  0.029748   \n",
       "6  0.061725  0.055685  0.251647  0.036922  0.224266  0.029748  0.000000   \n",
       "7  0.267347  0.261307  0.046025  0.168700  0.018644  0.235370  0.205622   \n",
       "8  0.027065  0.021025  0.286307  0.071582  0.258926  0.004912  0.034660   \n",
       "9  0.304463  0.298423  0.008909  0.205816  0.018472  0.272486  0.242738   \n",
       "\n",
       "          7         8         9  \n",
       "0  0.267347  0.027065  0.304463  \n",
       "1  0.261307  0.021025  0.298423  \n",
       "2  0.046025  0.286307  0.008909  \n",
       "3  0.168700  0.071582  0.205816  \n",
       "4  0.018644  0.258926  0.018472  \n",
       "5  0.235370  0.004912  0.272486  \n",
       "6  0.205622  0.034660  0.242738  \n",
       "7  0.000000  0.240282  0.037116  \n",
       "8  0.240282  0.000000  0.277398  \n",
       "9  0.037116  0.277398  0.000000  "
      ]
     },
     "execution_count": 4,
     "metadata": {},
     "output_type": "execute_result"
    }
   ],
   "source": [
    "# Transform 'distance' np.array into a distance matrix.\n",
    "from scipy.spatial import distance_matrix\n",
    "distance_matrix = pd.DataFrame(distance_matrix(distance, distance), index=df.index, columns=df.index)\n",
    "distance_matrix"
   ]
  },
  {
   "cell_type": "code",
   "execution_count": 5,
   "metadata": {},
   "outputs": [
    {
     "data": {
      "text/plain": [
       "AgglomerativeClustering(affinity='precomputed', compute_full_tree='auto',\n",
       "                        connectivity=None, distance_threshold=None,\n",
       "                        linkage='average', memory=None, n_clusters=2,\n",
       "                        pooling_func='deprecated')"
      ]
     },
     "execution_count": 5,
     "metadata": {},
     "output_type": "execute_result"
    }
   ],
   "source": [
    "# Create model\n",
    "# Parameters: affinity = 'precomputed', linkage = {'complete', 'average', 'single'}\n",
    "# Note from sklearn:  If affinity =  “precomputed”, a distance matrix (instead of a similarity matrix) is needed as input for the fit method.\n",
    "cluster = AgglomerativeClustering(affinity = 'precomputed', linkage = 'average')\n",
    "\n",
    "# Fit model using distance matrix\n",
    "cluster.fit(distance_matrix)"
   ]
  },
  {
   "cell_type": "code",
   "execution_count": 6,
   "metadata": {},
   "outputs": [
    {
     "data": {
      "text/plain": [
       "array([0, 0, 1, 0, 1, 0, 0, 1, 0, 1])"
      ]
     },
     "execution_count": 6,
     "metadata": {},
     "output_type": "execute_result"
    }
   ],
   "source": [
    "# Output how the data points have been clustered. \n",
    "cluster.labels_"
   ]
  },
  {
   "cell_type": "markdown",
   "metadata": {},
   "source": [
    "# Ward Heirarchial Clustering"
   ]
  },
  {
   "cell_type": "code",
   "execution_count": 7,
   "metadata": {},
   "outputs": [
    {
     "data": {
      "text/plain": [
       "AgglomerativeClustering(affinity='euclidean', compute_full_tree='auto',\n",
       "                        connectivity=None, distance_threshold=None,\n",
       "                        linkage='ward', memory=None, n_clusters=2,\n",
       "                        pooling_func='deprecated')"
      ]
     },
     "execution_count": 7,
     "metadata": {},
     "output_type": "execute_result"
    }
   ],
   "source": [
    "# Create model\n",
    "# Parameters: affinity = 'euclidean', linkage = 'ward'\n",
    "# Note from sklearn:  If linkage is “ward”, only affinity = “euclidean” is accepted.\n",
    "ward_cluster = AgglomerativeClustering(affinity = 'euclidean', linkage = 'ward')\n",
    "\n",
    "# Fit model using Cos distance column\n",
    "ward_cluster.fit(distance) "
   ]
  },
  {
   "cell_type": "code",
   "execution_count": 8,
   "metadata": {},
   "outputs": [
    {
     "data": {
      "text/plain": [
       "array([0, 0, 1, 0, 1, 0, 0, 1, 0, 1])"
      ]
     },
     "execution_count": 8,
     "metadata": {},
     "output_type": "execute_result"
    }
   ],
   "source": [
    "# Output how the data points have been clustered. \n",
    "cluster.labels_"
   ]
  },
  {
   "cell_type": "markdown",
   "metadata": {},
   "source": [
    "# Partitioning Around Medoids"
   ]
  },
  {
   "cell_type": "code",
   "execution_count": 9,
   "metadata": {},
   "outputs": [],
   "source": [
    "import rpy2\n",
    "import rpy2.robjects as robjects               # We utilize a 'high-level' interface over a 'low-level' interface. \n",
    "from rpy2.robjects.packages import importr     # Import R packages. \n",
    "import rpy2.robjects.packages as rpackages\n",
    "\n",
    "# Pandas conversion of rpy2\n",
    "from rpy2.robjects import pandas2ri\n",
    "pandas2ri.activate()"
   ]
  },
  {
   "cell_type": "code",
   "execution_count": 10,
   "metadata": {},
   "outputs": [
    {
     "data": {
      "text/plain": [
       "rpy2.rinterface.NULL"
      ]
     },
     "execution_count": 10,
     "metadata": {},
     "output_type": "execute_result"
    }
   ],
   "source": [
    "# Import R's 'base' and 'utils' packages.\n",
    "base = importr('base')\n",
    "utils = importr('utils')\n",
    "\n",
    "# select a mirror for R packages\n",
    "utils.chooseCRANmirror(ind=1) # select the first mirror in the list\n",
    "\n",
    "# Install 'pam'\n",
    "utils.install_packages('pam')\n",
    "\n",
    "#### RRuntimeError: Error in loadNamespace(name) : there is no package called ‘cluster’ ###\n",
    "#r_cluster = importr('cluster')\n",
    "#r_cluster.pam"
   ]
  },
  {
   "cell_type": "code",
   "execution_count": 11,
   "metadata": {},
   "outputs": [
    {
     "name": "stdout",
     "output_type": "stream",
     "text": [
      "<class 'rpy2.robjects.vectors.DataFrame'>\n",
      "  CLUSTERID1 CLUSTERID2      DeltaMZ MEH   Cosine OtherScore ComponentIndex\n",
      "0          1          2  -3.03000000   0 0.551420   0.480834              1\n",
      "1          2          3  -0.01800540   0 0.557460   0.555385              1\n",
      "2          2          4  -0.06500240   0 0.864792   0.515213              1\n",
      "3          3          4 -57.06100000   0 0.650067   0.538600              1\n",
      "4          5          6   0.00100708   0 0.837411   0.606836              2\n",
      "5          5          7 -18.00800000   0 0.583397   0.531694              2\n",
      "6          6          7 -46.01900000   0 0.613145   0.547435              2\n",
      "7          7          9   0.00700378   0 0.818767   0.455516              2\n",
      "8          8          9  -2.01801000   0 0.578485   0.441880              2\n",
      "9          9         10   0.00000000   0 0.855883   0.742791              2\n",
      "\n"
     ]
    }
   ],
   "source": [
    "# Convert pandas df to R object\n",
    "r_df = pandas2ri.py2ri(df)\n",
    "\n",
    "# View results\n",
    "print(type(r_df))\n",
    "print(r_df)"
   ]
  },
  {
   "cell_type": "code",
   "execution_count": null,
   "metadata": {},
   "outputs": [],
   "source": []
  }
 ],
 "metadata": {
  "kernelspec": {
   "display_name": "Python 3",
   "language": "python",
   "name": "python3"
  },
  "language_info": {
   "codemirror_mode": {
    "name": "ipython",
    "version": 3
   },
   "file_extension": ".py",
   "mimetype": "text/x-python",
   "name": "python",
   "nbconvert_exporter": "python",
   "pygments_lexer": "ipython3",
   "version": "3.7.4"
  }
 },
 "nbformat": 4,
 "nbformat_minor": 2
}
